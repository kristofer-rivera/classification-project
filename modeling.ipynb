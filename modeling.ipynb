{
 "cells": [
  {
   "cell_type": "code",
   "execution_count": 1,
   "id": "018a1758",
   "metadata": {},
   "outputs": [],
   "source": [
    "#imports for user defined functions\n",
    "import acquire as aq\n",
    "import prepare as prep\n",
    "import explore as ex\n",
    "\n",
    "# Imports for arithmetic calculations and data frame manipulation\n",
    "import math\n",
    "import numpy as np\n",
    "import pandas as pd\n",
    "\n",
    "#Imports for statistical analysis\n",
    "from scipy import stats\n",
    "import statistics\n",
    "\n",
    "#Imports for creating visualizations\n",
    "import matplotlib.pyplot as plt \n",
    "import seaborn as sns\n",
    "\n",
    "#Imports for modeling and model evaluation\n",
    "from sklearn.tree import DecisionTreeClassifier, plot_tree\n",
    "from sklearn.ensemble import RandomForestClassifier\n",
    "from sklearn.neighbors import KNeighborsClassifier\n",
    "from sklearn.linear_model import LogisticRegression\n",
    "from sklearn.tree import export_graphviz\n",
    "from sklearn.impute import SimpleImputer\n",
    "\n",
    "from sklearn.model_selection import train_test_split\n",
    "from sklearn.metrics import confusion_matrix\n",
    "from sklearn.metrics import accuracy_score\n",
    "from sklearn.metrics import precision_score\n",
    "from sklearn.metrics import recall_score\n",
    "from sklearn.metrics import classification_report\n",
    "\n",
    "#Ignore warnings\n",
    "import warnings\n",
    "warnings.filterwarnings(\"ignore\")"
   ]
  },
  {
   "cell_type": "markdown",
   "id": "cfb1c5d3",
   "metadata": {},
   "source": [
    "**Acquire and clean using user defined functions**"
   ]
  },
  {
   "cell_type": "code",
   "execution_count": 2,
   "id": "8e64f548",
   "metadata": {},
   "outputs": [
    {
     "name": "stdout",
     "output_type": "stream",
     "text": [
      "Using cached csv...\n"
     ]
    }
   ],
   "source": [
    "#Acquire data using user defined function \n",
    "telco = aq.get_telco_data()\n",
    "#Use prepare.py to clean and split data frame\n",
    "df = prep.prep_telco(telco)\n",
    "train, validate, test = prep.split_telco_data(df)\n",
    "#Use prepare.py to create x and y variables\n",
    "X_train, y_train, X_validate, y_validate, X_test, y_test = prep.create_xy(train, validate, test)"
   ]
  },
  {
   "cell_type": "markdown",
   "id": "06c212eb",
   "metadata": {},
   "source": [
    "# Modeling #"
   ]
  },
  {
   "cell_type": "code",
   "execution_count": 3,
   "id": "e8634d8d",
   "metadata": {},
   "outputs": [
    {
     "name": "stdout",
     "output_type": "stream",
     "text": [
      "Our baseline accuracy is 0.2656845313690627. We can compare our model accuracy to this figure.\n"
     ]
    }
   ],
   "source": [
    "# Calculate the baseline for train data set\n",
    "\n",
    "baseline = (train.churn == 1).mean()\n",
    "print(f'Our baseline accuracy is {baseline}. We can compare our model accuracy to this figure.')"
   ]
  },
  {
   "cell_type": "markdown",
   "id": "afdabd24",
   "metadata": {},
   "source": [
    "## Models Using All Features ##"
   ]
  },
  {
   "cell_type": "markdown",
   "id": "03786fce",
   "metadata": {},
   "source": [
    "**Decision Trees**"
   ]
  },
  {
   "cell_type": "code",
   "execution_count": 4,
   "id": "333809c6",
   "metadata": {},
   "outputs": [],
   "source": [
    "#Model 1\n",
    "\n",
    "clf1 = DecisionTreeClassifier(random_state=123)\n",
    "\n",
    "clf1 = clf1.fit(X_train, y_train)"
   ]
  },
  {
   "cell_type": "code",
   "execution_count": 5,
   "id": "64bec7b5",
   "metadata": {},
   "outputs": [
    {
     "name": "stdout",
     "output_type": "stream",
     "text": [
      "\n",
      "The accuracy for our model is 0.7263\n",
      "The True Positive Rate is 0.474, The False Positive Rate is 0.182,\n",
      "The True Negative Rate is 0.818, and the False Negative Rate is 0.526\n",
      "\n"
     ]
    },
    {
     "data": {
      "text/html": [
       "<div>\n",
       "<style scoped>\n",
       "    .dataframe tbody tr th:only-of-type {\n",
       "        vertical-align: middle;\n",
       "    }\n",
       "\n",
       "    .dataframe tbody tr th {\n",
       "        vertical-align: top;\n",
       "    }\n",
       "\n",
       "    .dataframe thead th {\n",
       "        text-align: right;\n",
       "    }\n",
       "</style>\n",
       "<table border=\"1\" class=\"dataframe\">\n",
       "  <thead>\n",
       "    <tr style=\"text-align: right;\">\n",
       "      <th></th>\n",
       "      <th>precision</th>\n",
       "      <th>recall</th>\n",
       "      <th>f1-score</th>\n",
       "      <th>support</th>\n",
       "    </tr>\n",
       "  </thead>\n",
       "  <tbody>\n",
       "    <tr>\n",
       "      <th>0</th>\n",
       "      <td>0.811049</td>\n",
       "      <td>0.817595</td>\n",
       "      <td>0.814309</td>\n",
       "      <td>1239.000000</td>\n",
       "    </tr>\n",
       "    <tr>\n",
       "      <th>1</th>\n",
       "      <td>0.485194</td>\n",
       "      <td>0.474388</td>\n",
       "      <td>0.479730</td>\n",
       "      <td>449.000000</td>\n",
       "    </tr>\n",
       "    <tr>\n",
       "      <th>accuracy</th>\n",
       "      <td>0.726303</td>\n",
       "      <td>0.726303</td>\n",
       "      <td>0.726303</td>\n",
       "      <td>0.726303</td>\n",
       "    </tr>\n",
       "    <tr>\n",
       "      <th>macro avg</th>\n",
       "      <td>0.648121</td>\n",
       "      <td>0.645991</td>\n",
       "      <td>0.647019</td>\n",
       "      <td>1688.000000</td>\n",
       "    </tr>\n",
       "    <tr>\n",
       "      <th>weighted avg</th>\n",
       "      <td>0.724373</td>\n",
       "      <td>0.726303</td>\n",
       "      <td>0.725312</td>\n",
       "      <td>1688.000000</td>\n",
       "    </tr>\n",
       "  </tbody>\n",
       "</table>\n",
       "</div>"
      ],
      "text/plain": [
       "              precision    recall  f1-score      support\n",
       "0              0.811049  0.817595  0.814309  1239.000000\n",
       "1              0.485194  0.474388  0.479730   449.000000\n",
       "accuracy       0.726303  0.726303  0.726303     0.726303\n",
       "macro avg      0.648121  0.645991  0.647019  1688.000000\n",
       "weighted avg   0.724373  0.726303  0.725312  1688.000000"
      ]
     },
     "execution_count": 5,
     "metadata": {},
     "output_type": "execute_result"
    }
   ],
   "source": [
    "# Creating predictions and evaluating \n",
    "\n",
    "X = X_validate\n",
    "y = y_validate\n",
    "\n",
    "accuracy1 = clf1.score(X, y)\n",
    "y_pred = clf1.predict(X)\n",
    "conf = confusion_matrix(y, y_pred)\n",
    "class_report = pd.DataFrame(classification_report(y, y_pred, output_dict=True)).T\n",
    "conf = confusion_matrix(y, y_pred)\n",
    "tpr = conf[1][1] / conf[1].sum()\n",
    "fpr = conf[0][1] / conf[0].sum()\n",
    "tnr = conf[0][0] / conf[0].sum()\n",
    "fnr = conf[1][0] / conf[1].sum()\n",
    "print(f'''\n",
    "The accuracy for our model is {accuracy1:.4}\n",
    "The True Positive Rate is {tpr:.3}, The False Positive Rate is {fpr:.3},\n",
    "The True Negative Rate is {tnr:.3}, and the False Negative Rate is {fnr:.3}\n",
    "''')\n",
    "class_report"
   ]
  },
  {
   "cell_type": "markdown",
   "id": "4ae83183",
   "metadata": {},
   "source": [
    "*Model with lower max depth to reduce overfitting.*"
   ]
  },
  {
   "cell_type": "code",
   "execution_count": 6,
   "id": "2c1e9220",
   "metadata": {},
   "outputs": [],
   "source": [
    "#Model 2\n",
    "\n",
    "clf2 = DecisionTreeClassifier(max_depth=3, random_state=123)\n",
    "\n",
    "clf2 = clf2.fit(X_train, y_train)"
   ]
  },
  {
   "cell_type": "code",
   "execution_count": 7,
   "id": "b8b1d9a9",
   "metadata": {},
   "outputs": [
    {
     "name": "stdout",
     "output_type": "stream",
     "text": [
      "\n",
      "The accuracy for our model is 0.7731\n",
      "The True Positive Rate is 0.39, The False Positive Rate is 0.088,\n",
      "The True Negative Rate is 0.912, and the False Negative Rate is 0.61\n",
      "\n"
     ]
    },
    {
     "data": {
      "text/html": [
       "<div>\n",
       "<style scoped>\n",
       "    .dataframe tbody tr th:only-of-type {\n",
       "        vertical-align: middle;\n",
       "    }\n",
       "\n",
       "    .dataframe tbody tr th {\n",
       "        vertical-align: top;\n",
       "    }\n",
       "\n",
       "    .dataframe thead th {\n",
       "        text-align: right;\n",
       "    }\n",
       "</style>\n",
       "<table border=\"1\" class=\"dataframe\">\n",
       "  <thead>\n",
       "    <tr style=\"text-align: right;\">\n",
       "      <th></th>\n",
       "      <th>precision</th>\n",
       "      <th>recall</th>\n",
       "      <th>f1-score</th>\n",
       "      <th>support</th>\n",
       "    </tr>\n",
       "  </thead>\n",
       "  <tbody>\n",
       "    <tr>\n",
       "      <th>0</th>\n",
       "      <td>0.804843</td>\n",
       "      <td>0.912026</td>\n",
       "      <td>0.855089</td>\n",
       "      <td>1239.000000</td>\n",
       "    </tr>\n",
       "    <tr>\n",
       "      <th>1</th>\n",
       "      <td>0.616197</td>\n",
       "      <td>0.389755</td>\n",
       "      <td>0.477490</td>\n",
       "      <td>449.000000</td>\n",
       "    </tr>\n",
       "    <tr>\n",
       "      <th>accuracy</th>\n",
       "      <td>0.773104</td>\n",
       "      <td>0.773104</td>\n",
       "      <td>0.773104</td>\n",
       "      <td>0.773104</td>\n",
       "    </tr>\n",
       "    <tr>\n",
       "      <th>macro avg</th>\n",
       "      <td>0.710520</td>\n",
       "      <td>0.650890</td>\n",
       "      <td>0.666289</td>\n",
       "      <td>1688.000000</td>\n",
       "    </tr>\n",
       "    <tr>\n",
       "      <th>weighted avg</th>\n",
       "      <td>0.754664</td>\n",
       "      <td>0.773104</td>\n",
       "      <td>0.754649</td>\n",
       "      <td>1688.000000</td>\n",
       "    </tr>\n",
       "  </tbody>\n",
       "</table>\n",
       "</div>"
      ],
      "text/plain": [
       "              precision    recall  f1-score      support\n",
       "0              0.804843  0.912026  0.855089  1239.000000\n",
       "1              0.616197  0.389755  0.477490   449.000000\n",
       "accuracy       0.773104  0.773104  0.773104     0.773104\n",
       "macro avg      0.710520  0.650890  0.666289  1688.000000\n",
       "weighted avg   0.754664  0.773104  0.754649  1688.000000"
      ]
     },
     "execution_count": 7,
     "metadata": {},
     "output_type": "execute_result"
    }
   ],
   "source": [
    "# Creating predictions and evaluating \n",
    "\n",
    "accuracy2 = clf2.score(X, y)\n",
    "y_pred = clf2.predict(X)\n",
    "conf = confusion_matrix(y, y_pred)\n",
    "class_report = pd.DataFrame(classification_report(y, y_pred, output_dict=True)).T\n",
    "conf = confusion_matrix(y, y_pred)\n",
    "tpr = conf[1][1] / conf[1].sum()\n",
    "fpr = conf[0][1] / conf[0].sum()\n",
    "tnr = conf[0][0] / conf[0].sum()\n",
    "fnr = conf[1][0] / conf[1].sum()\n",
    "print(f'''\n",
    "The accuracy for our model is {accuracy2:.4}\n",
    "The True Positive Rate is {tpr:.3}, The False Positive Rate is {fpr:.3},\n",
    "The True Negative Rate is {tnr:.3}, and the False Negative Rate is {fnr:.3}\n",
    "''')\n",
    "class_report"
   ]
  },
  {
   "cell_type": "markdown",
   "id": "a0c2712a",
   "metadata": {},
   "source": [
    "**K-Nearest Neighor Model**"
   ]
  },
  {
   "cell_type": "code",
   "execution_count": 8,
   "id": "0252c9f7",
   "metadata": {},
   "outputs": [],
   "source": [
    "# Model 3\n",
    "\n",
    "knn1 = KNeighborsClassifier()\n",
    "knn1 = knn1.fit(X_train, y_train)"
   ]
  },
  {
   "cell_type": "code",
   "execution_count": 9,
   "id": "91633c33",
   "metadata": {},
   "outputs": [
    {
     "name": "stdout",
     "output_type": "stream",
     "text": [
      "\n",
      "The accuracy for our model is 0.7595\n",
      "The True Positive Rate is 0.468, The False Positive Rate is 0.135,\n",
      "The True Negative Rate is 0.865, and the False Negative Rate is 0.532\n",
      "\n"
     ]
    },
    {
     "data": {
      "text/html": [
       "<div>\n",
       "<style scoped>\n",
       "    .dataframe tbody tr th:only-of-type {\n",
       "        vertical-align: middle;\n",
       "    }\n",
       "\n",
       "    .dataframe tbody tr th {\n",
       "        vertical-align: top;\n",
       "    }\n",
       "\n",
       "    .dataframe thead th {\n",
       "        text-align: right;\n",
       "    }\n",
       "</style>\n",
       "<table border=\"1\" class=\"dataframe\">\n",
       "  <thead>\n",
       "    <tr style=\"text-align: right;\">\n",
       "      <th></th>\n",
       "      <th>precision</th>\n",
       "      <th>recall</th>\n",
       "      <th>f1-score</th>\n",
       "      <th>support</th>\n",
       "    </tr>\n",
       "  </thead>\n",
       "  <tbody>\n",
       "    <tr>\n",
       "      <th>0</th>\n",
       "      <td>0.817696</td>\n",
       "      <td>0.865214</td>\n",
       "      <td>0.840784</td>\n",
       "      <td>1239.000000</td>\n",
       "    </tr>\n",
       "    <tr>\n",
       "      <th>1</th>\n",
       "      <td>0.557029</td>\n",
       "      <td>0.467706</td>\n",
       "      <td>0.508475</td>\n",
       "      <td>449.000000</td>\n",
       "    </tr>\n",
       "    <tr>\n",
       "      <th>accuracy</th>\n",
       "      <td>0.759479</td>\n",
       "      <td>0.759479</td>\n",
       "      <td>0.759479</td>\n",
       "      <td>0.759479</td>\n",
       "    </tr>\n",
       "    <tr>\n",
       "      <th>macro avg</th>\n",
       "      <td>0.687363</td>\n",
       "      <td>0.666460</td>\n",
       "      <td>0.674629</td>\n",
       "      <td>1688.000000</td>\n",
       "    </tr>\n",
       "    <tr>\n",
       "      <th>weighted avg</th>\n",
       "      <td>0.748360</td>\n",
       "      <td>0.759479</td>\n",
       "      <td>0.752391</td>\n",
       "      <td>1688.000000</td>\n",
       "    </tr>\n",
       "  </tbody>\n",
       "</table>\n",
       "</div>"
      ],
      "text/plain": [
       "              precision    recall  f1-score      support\n",
       "0              0.817696  0.865214  0.840784  1239.000000\n",
       "1              0.557029  0.467706  0.508475   449.000000\n",
       "accuracy       0.759479  0.759479  0.759479     0.759479\n",
       "macro avg      0.687363  0.666460  0.674629  1688.000000\n",
       "weighted avg   0.748360  0.759479  0.752391  1688.000000"
      ]
     },
     "execution_count": 9,
     "metadata": {},
     "output_type": "execute_result"
    }
   ],
   "source": [
    "# Creating predictions and evaluating \n",
    "\n",
    "accuracy3 = knn1.score(X, y)\n",
    "y_pred = knn1.predict(X)\n",
    "conf = confusion_matrix(y, y_pred)\n",
    "class_report = pd.DataFrame(classification_report(y, y_pred, output_dict=True)).T\n",
    "conf = confusion_matrix(y, y_pred)\n",
    "tpr = conf[1][1] / conf[1].sum()\n",
    "fpr = conf[0][1] / conf[0].sum()\n",
    "tnr = conf[0][0] / conf[0].sum()\n",
    "fnr = conf[1][0] / conf[1].sum()\n",
    "print(f'''\n",
    "The accuracy for our model is {accuracy3:.4}\n",
    "The True Positive Rate is {tpr:.3}, The False Positive Rate is {fpr:.3},\n",
    "The True Negative Rate is {tnr:.3}, and the False Negative Rate is {fnr:.3}\n",
    "''')\n",
    "class_report"
   ]
  },
  {
   "cell_type": "markdown",
   "id": "ffa22858",
   "metadata": {},
   "source": [
    "*Model with lower K value to reduce overfitting*"
   ]
  },
  {
   "cell_type": "code",
   "execution_count": 10,
   "id": "51b2f800",
   "metadata": {},
   "outputs": [],
   "source": [
    "#Model 4\n",
    "# Create and fit K-Nearest Neighbor model *Default is 5\n",
    "\n",
    "knn2 = KNeighborsClassifier(n_neighbors = 3)\n",
    "knn2 = knn2.fit(X_train, y_train)"
   ]
  },
  {
   "cell_type": "code",
   "execution_count": 11,
   "id": "f6121568",
   "metadata": {},
   "outputs": [
    {
     "name": "stdout",
     "output_type": "stream",
     "text": [
      "\n",
      "The accuracy for our model is 0.7417\n",
      "The True Positive Rate is 0.465, The False Positive Rate is 0.158,\n",
      "The True Negative Rate is 0.842, and the False Negative Rate is 0.535\n",
      "\n"
     ]
    },
    {
     "data": {
      "text/html": [
       "<div>\n",
       "<style scoped>\n",
       "    .dataframe tbody tr th:only-of-type {\n",
       "        vertical-align: middle;\n",
       "    }\n",
       "\n",
       "    .dataframe tbody tr th {\n",
       "        vertical-align: top;\n",
       "    }\n",
       "\n",
       "    .dataframe thead th {\n",
       "        text-align: right;\n",
       "    }\n",
       "</style>\n",
       "<table border=\"1\" class=\"dataframe\">\n",
       "  <thead>\n",
       "    <tr style=\"text-align: right;\">\n",
       "      <th></th>\n",
       "      <th>precision</th>\n",
       "      <th>recall</th>\n",
       "      <th>f1-score</th>\n",
       "      <th>support</th>\n",
       "    </tr>\n",
       "  </thead>\n",
       "  <tbody>\n",
       "    <tr>\n",
       "      <th>0</th>\n",
       "      <td>0.812938</td>\n",
       "      <td>0.841808</td>\n",
       "      <td>0.827121</td>\n",
       "      <td>1239.000000</td>\n",
       "    </tr>\n",
       "    <tr>\n",
       "      <th>1</th>\n",
       "      <td>0.516049</td>\n",
       "      <td>0.465479</td>\n",
       "      <td>0.489461</td>\n",
       "      <td>449.000000</td>\n",
       "    </tr>\n",
       "    <tr>\n",
       "      <th>accuracy</th>\n",
       "      <td>0.741706</td>\n",
       "      <td>0.741706</td>\n",
       "      <td>0.741706</td>\n",
       "      <td>0.741706</td>\n",
       "    </tr>\n",
       "    <tr>\n",
       "      <th>macro avg</th>\n",
       "      <td>0.664494</td>\n",
       "      <td>0.653643</td>\n",
       "      <td>0.658291</td>\n",
       "      <td>1688.000000</td>\n",
       "    </tr>\n",
       "    <tr>\n",
       "      <th>weighted avg</th>\n",
       "      <td>0.733967</td>\n",
       "      <td>0.741706</td>\n",
       "      <td>0.737305</td>\n",
       "      <td>1688.000000</td>\n",
       "    </tr>\n",
       "  </tbody>\n",
       "</table>\n",
       "</div>"
      ],
      "text/plain": [
       "              precision    recall  f1-score      support\n",
       "0              0.812938  0.841808  0.827121  1239.000000\n",
       "1              0.516049  0.465479  0.489461   449.000000\n",
       "accuracy       0.741706  0.741706  0.741706     0.741706\n",
       "macro avg      0.664494  0.653643  0.658291  1688.000000\n",
       "weighted avg   0.733967  0.741706  0.737305  1688.000000"
      ]
     },
     "execution_count": 11,
     "metadata": {},
     "output_type": "execute_result"
    }
   ],
   "source": [
    "# Creating predictions and evaluating \n",
    "\n",
    "accuracy4 = knn2.score(X, y)\n",
    "y_pred = knn2.predict(X)\n",
    "conf = confusion_matrix(y, y_pred)\n",
    "class_report = pd.DataFrame(classification_report(y, y_pred, output_dict=True)).T\n",
    "conf = confusion_matrix(y, y_pred)\n",
    "tpr = conf[1][1] / conf[1].sum()\n",
    "fpr = conf[0][1] / conf[0].sum()\n",
    "tnr = conf[0][0] / conf[0].sum()\n",
    "fnr = conf[1][0] / conf[1].sum()\n",
    "print(f'''\n",
    "The accuracy for our model is {accuracy4:.4}\n",
    "The True Positive Rate is {tpr:.3}, The False Positive Rate is {fpr:.3},\n",
    "The True Negative Rate is {tnr:.3}, and the False Negative Rate is {fnr:.3}\n",
    "''')\n",
    "class_report"
   ]
  },
  {
   "cell_type": "markdown",
   "id": "6880acbc",
   "metadata": {},
   "source": [
    "*Model with higher K value*"
   ]
  },
  {
   "cell_type": "code",
   "execution_count": 12,
   "id": "57130cdd",
   "metadata": {},
   "outputs": [],
   "source": [
    "#Model 5\n",
    "# Create and fit K-Nearest Neighbor model \n",
    "\n",
    "knn3 = KNeighborsClassifier(n_neighbors = 10)\n",
    "knn3 = knn3.fit(X_train, y_train)"
   ]
  },
  {
   "cell_type": "code",
   "execution_count": 13,
   "id": "5c18d168",
   "metadata": {},
   "outputs": [
    {
     "name": "stdout",
     "output_type": "stream",
     "text": [
      "\n",
      "The accuracy for our model is 0.7713\n",
      "The True Positive Rate is 0.352, The False Positive Rate is 0.0767,\n",
      "The True Negative Rate is 0.923, and the False Negative Rate is 0.648\n",
      "\n"
     ]
    },
    {
     "data": {
      "text/html": [
       "<div>\n",
       "<style scoped>\n",
       "    .dataframe tbody tr th:only-of-type {\n",
       "        vertical-align: middle;\n",
       "    }\n",
       "\n",
       "    .dataframe tbody tr th {\n",
       "        vertical-align: top;\n",
       "    }\n",
       "\n",
       "    .dataframe thead th {\n",
       "        text-align: right;\n",
       "    }\n",
       "</style>\n",
       "<table border=\"1\" class=\"dataframe\">\n",
       "  <thead>\n",
       "    <tr style=\"text-align: right;\">\n",
       "      <th></th>\n",
       "      <th>precision</th>\n",
       "      <th>recall</th>\n",
       "      <th>f1-score</th>\n",
       "      <th>support</th>\n",
       "    </tr>\n",
       "  </thead>\n",
       "  <tbody>\n",
       "    <tr>\n",
       "      <th>0</th>\n",
       "      <td>0.797213</td>\n",
       "      <td>0.923325</td>\n",
       "      <td>0.855647</td>\n",
       "      <td>1239.000000</td>\n",
       "    </tr>\n",
       "    <tr>\n",
       "      <th>1</th>\n",
       "      <td>0.624506</td>\n",
       "      <td>0.351893</td>\n",
       "      <td>0.450142</td>\n",
       "      <td>449.000000</td>\n",
       "    </tr>\n",
       "    <tr>\n",
       "      <th>accuracy</th>\n",
       "      <td>0.771327</td>\n",
       "      <td>0.771327</td>\n",
       "      <td>0.771327</td>\n",
       "      <td>0.771327</td>\n",
       "    </tr>\n",
       "    <tr>\n",
       "      <th>macro avg</th>\n",
       "      <td>0.710859</td>\n",
       "      <td>0.637609</td>\n",
       "      <td>0.652895</td>\n",
       "      <td>1688.000000</td>\n",
       "    </tr>\n",
       "    <tr>\n",
       "      <th>weighted avg</th>\n",
       "      <td>0.751273</td>\n",
       "      <td>0.771327</td>\n",
       "      <td>0.747785</td>\n",
       "      <td>1688.000000</td>\n",
       "    </tr>\n",
       "  </tbody>\n",
       "</table>\n",
       "</div>"
      ],
      "text/plain": [
       "              precision    recall  f1-score      support\n",
       "0              0.797213  0.923325  0.855647  1239.000000\n",
       "1              0.624506  0.351893  0.450142   449.000000\n",
       "accuracy       0.771327  0.771327  0.771327     0.771327\n",
       "macro avg      0.710859  0.637609  0.652895  1688.000000\n",
       "weighted avg   0.751273  0.771327  0.747785  1688.000000"
      ]
     },
     "execution_count": 13,
     "metadata": {},
     "output_type": "execute_result"
    }
   ],
   "source": [
    "# Creating predictions and evaluating \n",
    "\n",
    "accuracy5 = knn3.score(X, y)\n",
    "y_pred = knn3.predict(X)\n",
    "conf = confusion_matrix(y, y_pred)\n",
    "class_report = pd.DataFrame(classification_report(y, y_pred, output_dict=True)).T\n",
    "conf = confusion_matrix(y, y_pred)\n",
    "tpr = conf[1][1] / conf[1].sum()\n",
    "fpr = conf[0][1] / conf[0].sum()\n",
    "tnr = conf[0][0] / conf[0].sum()\n",
    "fnr = conf[1][0] / conf[1].sum()\n",
    "print(f'''\n",
    "The accuracy for our model is {accuracy5:.4}\n",
    "The True Positive Rate is {tpr:.3}, The False Positive Rate is {fpr:.3},\n",
    "The True Negative Rate is {tnr:.3}, and the False Negative Rate is {fnr:.3}\n",
    "''')\n",
    "class_report"
   ]
  },
  {
   "cell_type": "markdown",
   "id": "636b6eca",
   "metadata": {},
   "source": [
    "**Logistic Regression Models**"
   ]
  },
  {
   "cell_type": "code",
   "execution_count": 14,
   "id": "01fa8543",
   "metadata": {},
   "outputs": [],
   "source": [
    "# Model 6\n",
    "# Create our logistic regression model \n",
    "\n",
    "logit1 = LogisticRegression(random_state=123)\n",
    "logit1 = logit1.fit(X_train, y_train)"
   ]
  },
  {
   "cell_type": "code",
   "execution_count": 15,
   "id": "c24f36d5",
   "metadata": {},
   "outputs": [
    {
     "name": "stdout",
     "output_type": "stream",
     "text": [
      "\n",
      "The accuracy for our model is 0.798\n",
      "The True Positive Rate is 0.559, The False Positive Rate is 0.115,\n",
      "The True Negative Rate is 0.885, and the False Negative Rate is 0.441\n",
      "\n"
     ]
    },
    {
     "data": {
      "text/html": [
       "<div>\n",
       "<style scoped>\n",
       "    .dataframe tbody tr th:only-of-type {\n",
       "        vertical-align: middle;\n",
       "    }\n",
       "\n",
       "    .dataframe tbody tr th {\n",
       "        vertical-align: top;\n",
       "    }\n",
       "\n",
       "    .dataframe thead th {\n",
       "        text-align: right;\n",
       "    }\n",
       "</style>\n",
       "<table border=\"1\" class=\"dataframe\">\n",
       "  <thead>\n",
       "    <tr style=\"text-align: right;\">\n",
       "      <th></th>\n",
       "      <th>precision</th>\n",
       "      <th>recall</th>\n",
       "      <th>f1-score</th>\n",
       "      <th>support</th>\n",
       "    </tr>\n",
       "  </thead>\n",
       "  <tbody>\n",
       "    <tr>\n",
       "      <th>0</th>\n",
       "      <td>0.846986</td>\n",
       "      <td>0.884584</td>\n",
       "      <td>0.865377</td>\n",
       "      <td>1239.000000</td>\n",
       "    </tr>\n",
       "    <tr>\n",
       "      <th>1</th>\n",
       "      <td>0.637056</td>\n",
       "      <td>0.559020</td>\n",
       "      <td>0.595492</td>\n",
       "      <td>449.000000</td>\n",
       "    </tr>\n",
       "    <tr>\n",
       "      <th>accuracy</th>\n",
       "      <td>0.797986</td>\n",
       "      <td>0.797986</td>\n",
       "      <td>0.797986</td>\n",
       "      <td>0.797986</td>\n",
       "    </tr>\n",
       "    <tr>\n",
       "      <th>macro avg</th>\n",
       "      <td>0.742021</td>\n",
       "      <td>0.721802</td>\n",
       "      <td>0.730435</td>\n",
       "      <td>1688.000000</td>\n",
       "    </tr>\n",
       "    <tr>\n",
       "      <th>weighted avg</th>\n",
       "      <td>0.791146</td>\n",
       "      <td>0.797986</td>\n",
       "      <td>0.793589</td>\n",
       "      <td>1688.000000</td>\n",
       "    </tr>\n",
       "  </tbody>\n",
       "</table>\n",
       "</div>"
      ],
      "text/plain": [
       "              precision    recall  f1-score      support\n",
       "0              0.846986  0.884584  0.865377  1239.000000\n",
       "1              0.637056  0.559020  0.595492   449.000000\n",
       "accuracy       0.797986  0.797986  0.797986     0.797986\n",
       "macro avg      0.742021  0.721802  0.730435  1688.000000\n",
       "weighted avg   0.791146  0.797986  0.793589  1688.000000"
      ]
     },
     "execution_count": 15,
     "metadata": {},
     "output_type": "execute_result"
    }
   ],
   "source": [
    "# Creating predictions and evaluating \n",
    "\n",
    "accuracy6 = logit1.score(X, y)\n",
    "y_pred = logit1.predict(X)\n",
    "conf = confusion_matrix(y, y_pred)\n",
    "class_report = pd.DataFrame(classification_report(y, y_pred, output_dict=True)).T\n",
    "conf = confusion_matrix(y, y_pred)\n",
    "tpr = conf[1][1] / conf[1].sum()\n",
    "fpr = conf[0][1] / conf[0].sum()\n",
    "tnr = conf[0][0] / conf[0].sum()\n",
    "fnr = conf[1][0] / conf[1].sum()\n",
    "print(f'''\n",
    "The accuracy for our model is {accuracy6:.4}\n",
    "The True Positive Rate is {tpr:.3}, The False Positive Rate is {fpr:.3},\n",
    "The True Negative Rate is {tnr:.3}, and the False Negative Rate is {fnr:.3}\n",
    "''')\n",
    "class_report"
   ]
  },
  {
   "cell_type": "markdown",
   "id": "8add3a17",
   "metadata": {},
   "source": [
    "*Model with class_weight balanced*"
   ]
  },
  {
   "cell_type": "code",
   "execution_count": 16,
   "id": "df400f25",
   "metadata": {},
   "outputs": [],
   "source": [
    "# Model 7\n",
    "# Create logistic regression model\n",
    "\n",
    "logit2 = LogisticRegression(random_state=123, class_weight='balanced')\n",
    "logit2 = logit2.fit(X_train, y_train)"
   ]
  },
  {
   "cell_type": "code",
   "execution_count": 17,
   "id": "3bbe9dad",
   "metadata": {},
   "outputs": [
    {
     "name": "stdout",
     "output_type": "stream",
     "text": [
      "\n",
      "The accuracy for our model is 0.7233\n",
      "The True Positive Rate is 0.784, The False Positive Rate is 0.299,\n",
      "The True Negative Rate is 0.701, and the False Negative Rate is 0.216\n",
      "\n"
     ]
    },
    {
     "data": {
      "text/html": [
       "<div>\n",
       "<style scoped>\n",
       "    .dataframe tbody tr th:only-of-type {\n",
       "        vertical-align: middle;\n",
       "    }\n",
       "\n",
       "    .dataframe tbody tr th {\n",
       "        vertical-align: top;\n",
       "    }\n",
       "\n",
       "    .dataframe thead th {\n",
       "        text-align: right;\n",
       "    }\n",
       "</style>\n",
       "<table border=\"1\" class=\"dataframe\">\n",
       "  <thead>\n",
       "    <tr style=\"text-align: right;\">\n",
       "      <th></th>\n",
       "      <th>precision</th>\n",
       "      <th>recall</th>\n",
       "      <th>f1-score</th>\n",
       "      <th>support</th>\n",
       "    </tr>\n",
       "  </thead>\n",
       "  <tbody>\n",
       "    <tr>\n",
       "      <th>0</th>\n",
       "      <td>0.899586</td>\n",
       "      <td>0.701372</td>\n",
       "      <td>0.788209</td>\n",
       "      <td>1239.000000</td>\n",
       "    </tr>\n",
       "    <tr>\n",
       "      <th>1</th>\n",
       "      <td>0.487535</td>\n",
       "      <td>0.783964</td>\n",
       "      <td>0.601196</td>\n",
       "      <td>449.000000</td>\n",
       "    </tr>\n",
       "    <tr>\n",
       "      <th>accuracy</th>\n",
       "      <td>0.723341</td>\n",
       "      <td>0.723341</td>\n",
       "      <td>0.723341</td>\n",
       "      <td>0.723341</td>\n",
       "    </tr>\n",
       "    <tr>\n",
       "      <th>macro avg</th>\n",
       "      <td>0.693560</td>\n",
       "      <td>0.742668</td>\n",
       "      <td>0.694702</td>\n",
       "      <td>1688.000000</td>\n",
       "    </tr>\n",
       "    <tr>\n",
       "      <th>weighted avg</th>\n",
       "      <td>0.789982</td>\n",
       "      <td>0.723341</td>\n",
       "      <td>0.738464</td>\n",
       "      <td>1688.000000</td>\n",
       "    </tr>\n",
       "  </tbody>\n",
       "</table>\n",
       "</div>"
      ],
      "text/plain": [
       "              precision    recall  f1-score      support\n",
       "0              0.899586  0.701372  0.788209  1239.000000\n",
       "1              0.487535  0.783964  0.601196   449.000000\n",
       "accuracy       0.723341  0.723341  0.723341     0.723341\n",
       "macro avg      0.693560  0.742668  0.694702  1688.000000\n",
       "weighted avg   0.789982  0.723341  0.738464  1688.000000"
      ]
     },
     "execution_count": 17,
     "metadata": {},
     "output_type": "execute_result"
    }
   ],
   "source": [
    "# Creating predictions and evaluating \n",
    "\n",
    "accuracy7 = logit2.score(X, y)\n",
    "y_pred = logit2.predict(X)\n",
    "conf = confusion_matrix(y, y_pred)\n",
    "class_report = pd.DataFrame(classification_report(y, y_pred, output_dict=True)).T\n",
    "conf = confusion_matrix(y, y_pred)\n",
    "tpr = conf[1][1] / conf[1].sum()\n",
    "fpr = conf[0][1] / conf[0].sum()\n",
    "tnr = conf[0][0] / conf[0].sum()\n",
    "fnr = conf[1][0] / conf[1].sum()\n",
    "print(f'''\n",
    "The accuracy for our model is {accuracy7:.4}\n",
    "The True Positive Rate is {tpr:.3}, The False Positive Rate is {fpr:.3},\n",
    "The True Negative Rate is {tnr:.3}, and the False Negative Rate is {fnr:.3}\n",
    "''')\n",
    "class_report"
   ]
  },
  {
   "cell_type": "markdown",
   "id": "4d17b5c2",
   "metadata": {},
   "source": [
    "## Models Using Top 5 Features ##"
   ]
  },
  {
   "cell_type": "markdown",
   "id": "85757fa4",
   "metadata": {},
   "source": [
    "**Random Forest Models**"
   ]
  },
  {
   "cell_type": "code",
   "execution_count": 18,
   "id": "8fc4cf6e",
   "metadata": {},
   "outputs": [],
   "source": [
    "# Model 8\n",
    "# Create and fit Random Forest Model\n",
    "\n",
    "top_5_features=['electronic_check', 'monthly_contract', 'fiber_optic', 'monthly_charges', 'paperless_billing']\n",
    "\n",
    "rf1 = RandomForestClassifier(min_samples_leaf=1, max_depth=10, random_state=123)\n",
    "rf1 = rf1.fit(X_train[top_5_features], y_train)"
   ]
  },
  {
   "cell_type": "code",
   "execution_count": 19,
   "id": "da7c3ffe",
   "metadata": {},
   "outputs": [
    {
     "name": "stdout",
     "output_type": "stream",
     "text": [
      "\n",
      "The accuracy for our model is 0.7435\n",
      "The True Positive Rate is 0.486, The False Positive Rate is 0.163,\n",
      "The True Negative Rate is 0.837, and the False Negative Rate is 0.514\n",
      "\n"
     ]
    },
    {
     "data": {
      "text/html": [
       "<div>\n",
       "<style scoped>\n",
       "    .dataframe tbody tr th:only-of-type {\n",
       "        vertical-align: middle;\n",
       "    }\n",
       "\n",
       "    .dataframe tbody tr th {\n",
       "        vertical-align: top;\n",
       "    }\n",
       "\n",
       "    .dataframe thead th {\n",
       "        text-align: right;\n",
       "    }\n",
       "</style>\n",
       "<table border=\"1\" class=\"dataframe\">\n",
       "  <thead>\n",
       "    <tr style=\"text-align: right;\">\n",
       "      <th></th>\n",
       "      <th>precision</th>\n",
       "      <th>recall</th>\n",
       "      <th>f1-score</th>\n",
       "      <th>support</th>\n",
       "    </tr>\n",
       "  </thead>\n",
       "  <tbody>\n",
       "    <tr>\n",
       "      <th>0</th>\n",
       "      <td>0.817823</td>\n",
       "      <td>0.836965</td>\n",
       "      <td>0.827284</td>\n",
       "      <td>1239.000000</td>\n",
       "    </tr>\n",
       "    <tr>\n",
       "      <th>1</th>\n",
       "      <td>0.519048</td>\n",
       "      <td>0.485523</td>\n",
       "      <td>0.501726</td>\n",
       "      <td>449.000000</td>\n",
       "    </tr>\n",
       "    <tr>\n",
       "      <th>accuracy</th>\n",
       "      <td>0.743483</td>\n",
       "      <td>0.743483</td>\n",
       "      <td>0.743483</td>\n",
       "      <td>0.743483</td>\n",
       "    </tr>\n",
       "    <tr>\n",
       "      <th>macro avg</th>\n",
       "      <td>0.668435</td>\n",
       "      <td>0.661244</td>\n",
       "      <td>0.664505</td>\n",
       "      <td>1688.000000</td>\n",
       "    </tr>\n",
       "    <tr>\n",
       "      <th>weighted avg</th>\n",
       "      <td>0.738350</td>\n",
       "      <td>0.743483</td>\n",
       "      <td>0.740687</td>\n",
       "      <td>1688.000000</td>\n",
       "    </tr>\n",
       "  </tbody>\n",
       "</table>\n",
       "</div>"
      ],
      "text/plain": [
       "              precision    recall  f1-score      support\n",
       "0              0.817823  0.836965  0.827284  1239.000000\n",
       "1              0.519048  0.485523  0.501726   449.000000\n",
       "accuracy       0.743483  0.743483  0.743483     0.743483\n",
       "macro avg      0.668435  0.661244  0.664505  1688.000000\n",
       "weighted avg   0.738350  0.743483  0.740687  1688.000000"
      ]
     },
     "execution_count": 19,
     "metadata": {},
     "output_type": "execute_result"
    }
   ],
   "source": [
    "# Creating predictions and evaluating \n",
    "\n",
    "X = X_validate[top_5_features]\n",
    "y = y_validate\n",
    "\n",
    "accuracy8 = rf1.score(X, y)\n",
    "y_pred = rf1.predict(X)\n",
    "conf = confusion_matrix(y, y_pred)\n",
    "class_report = pd.DataFrame(classification_report(y, y_pred, output_dict=True)).T\n",
    "conf = confusion_matrix(y, y_pred)\n",
    "tpr = conf[1][1] / conf[1].sum()\n",
    "fpr = conf[0][1] / conf[0].sum()\n",
    "tnr = conf[0][0] / conf[0].sum()\n",
    "fnr = conf[1][0] / conf[1].sum()\n",
    "print(f'''\n",
    "The accuracy for our model is {accuracy8:.4}\n",
    "The True Positive Rate is {tpr:.3}, The False Positive Rate is {fpr:.3},\n",
    "The True Negative Rate is {tnr:.3}, and the False Negative Rate is {fnr:.3}\n",
    "''')\n",
    "class_report"
   ]
  },
  {
   "cell_type": "markdown",
   "id": "9e940652",
   "metadata": {},
   "source": [
    "*Trying a model with different paramaters*"
   ]
  },
  {
   "cell_type": "code",
   "execution_count": 20,
   "id": "da8d2587",
   "metadata": {},
   "outputs": [],
   "source": [
    "# Model 9\n",
    "# Create and fit Random Forest Model\n",
    "\n",
    "rf2 = RandomForestClassifier(min_samples_leaf=2, max_depth=15, random_state=123)\n",
    "rf2 = rf2.fit(X_train[top_5_features], y_train)"
   ]
  },
  {
   "cell_type": "code",
   "execution_count": 21,
   "id": "e0dae3ce",
   "metadata": {},
   "outputs": [
    {
     "name": "stdout",
     "output_type": "stream",
     "text": [
      "\n",
      "The accuracy for our model is 0.7316\n",
      "The True Positive Rate is 0.474, The False Positive Rate is 0.175,\n",
      "The True Negative Rate is 0.825, and the False Negative Rate is 0.526\n",
      "\n"
     ]
    },
    {
     "data": {
      "text/html": [
       "<div>\n",
       "<style scoped>\n",
       "    .dataframe tbody tr th:only-of-type {\n",
       "        vertical-align: middle;\n",
       "    }\n",
       "\n",
       "    .dataframe tbody tr th {\n",
       "        vertical-align: top;\n",
       "    }\n",
       "\n",
       "    .dataframe thead th {\n",
       "        text-align: right;\n",
       "    }\n",
       "</style>\n",
       "<table border=\"1\" class=\"dataframe\">\n",
       "  <thead>\n",
       "    <tr style=\"text-align: right;\">\n",
       "      <th></th>\n",
       "      <th>precision</th>\n",
       "      <th>recall</th>\n",
       "      <th>f1-score</th>\n",
       "      <th>support</th>\n",
       "    </tr>\n",
       "  </thead>\n",
       "  <tbody>\n",
       "    <tr>\n",
       "      <th>0</th>\n",
       "      <td>0.812401</td>\n",
       "      <td>0.824859</td>\n",
       "      <td>0.818582</td>\n",
       "      <td>1239.000000</td>\n",
       "    </tr>\n",
       "    <tr>\n",
       "      <th>1</th>\n",
       "      <td>0.495349</td>\n",
       "      <td>0.474388</td>\n",
       "      <td>0.484642</td>\n",
       "      <td>449.000000</td>\n",
       "    </tr>\n",
       "    <tr>\n",
       "      <th>accuracy</th>\n",
       "      <td>0.731635</td>\n",
       "      <td>0.731635</td>\n",
       "      <td>0.731635</td>\n",
       "      <td>0.731635</td>\n",
       "    </tr>\n",
       "    <tr>\n",
       "      <th>macro avg</th>\n",
       "      <td>0.653875</td>\n",
       "      <td>0.649623</td>\n",
       "      <td>0.651612</td>\n",
       "      <td>1688.000000</td>\n",
       "    </tr>\n",
       "    <tr>\n",
       "      <th>weighted avg</th>\n",
       "      <td>0.728066</td>\n",
       "      <td>0.731635</td>\n",
       "      <td>0.729756</td>\n",
       "      <td>1688.000000</td>\n",
       "    </tr>\n",
       "  </tbody>\n",
       "</table>\n",
       "</div>"
      ],
      "text/plain": [
       "              precision    recall  f1-score      support\n",
       "0              0.812401  0.824859  0.818582  1239.000000\n",
       "1              0.495349  0.474388  0.484642   449.000000\n",
       "accuracy       0.731635  0.731635  0.731635     0.731635\n",
       "macro avg      0.653875  0.649623  0.651612  1688.000000\n",
       "weighted avg   0.728066  0.731635  0.729756  1688.000000"
      ]
     },
     "execution_count": 21,
     "metadata": {},
     "output_type": "execute_result"
    }
   ],
   "source": [
    "# Creating predictions and evaluating \n",
    "\n",
    "\n",
    "accuracy9 = rf2.score(X, y)\n",
    "y_pred = rf2.predict(X)\n",
    "conf = confusion_matrix(y, y_pred)\n",
    "class_report = pd.DataFrame(classification_report(y, y_pred, output_dict=True)).T\n",
    "conf = confusion_matrix(y, y_pred)\n",
    "tpr = conf[1][1] / conf[1].sum()\n",
    "fpr = conf[0][1] / conf[0].sum()\n",
    "tnr = conf[0][0] / conf[0].sum()\n",
    "fnr = conf[1][0] / conf[1].sum()\n",
    "print(f'''\n",
    "The accuracy for our model is {accuracy9:.4}\n",
    "The True Positive Rate is {tpr:.3}, The False Positive Rate is {fpr:.3},\n",
    "The True Negative Rate is {tnr:.3}, and the False Negative Rate is {fnr:.3}\n",
    "''')\n",
    "class_report"
   ]
  },
  {
   "cell_type": "markdown",
   "id": "a45dddd9",
   "metadata": {},
   "source": [
    "**KNN Models**"
   ]
  },
  {
   "cell_type": "code",
   "execution_count": 22,
   "id": "af62a57d",
   "metadata": {},
   "outputs": [],
   "source": [
    "# Model 10\n",
    "# Create and fit K-Nearest Neighbor model \n",
    "\n",
    "knn3 = KNeighborsClassifier()\n",
    "knn3 = knn3.fit(X_train[top_5_features], y_train)"
   ]
  },
  {
   "cell_type": "code",
   "execution_count": 23,
   "id": "d820e52f",
   "metadata": {},
   "outputs": [
    {
     "name": "stdout",
     "output_type": "stream",
     "text": [
      "\n",
      "The accuracy for our model is 0.7334\n",
      "The True Positive Rate is 0.441, The False Positive Rate is 0.161,\n",
      "The True Negative Rate is 0.839, and the False Negative Rate is 0.559\n",
      "\n"
     ]
    },
    {
     "data": {
      "text/html": [
       "<div>\n",
       "<style scoped>\n",
       "    .dataframe tbody tr th:only-of-type {\n",
       "        vertical-align: middle;\n",
       "    }\n",
       "\n",
       "    .dataframe tbody tr th {\n",
       "        vertical-align: top;\n",
       "    }\n",
       "\n",
       "    .dataframe thead th {\n",
       "        text-align: right;\n",
       "    }\n",
       "</style>\n",
       "<table border=\"1\" class=\"dataframe\">\n",
       "  <thead>\n",
       "    <tr style=\"text-align: right;\">\n",
       "      <th></th>\n",
       "      <th>precision</th>\n",
       "      <th>recall</th>\n",
       "      <th>f1-score</th>\n",
       "      <th>support</th>\n",
       "    </tr>\n",
       "  </thead>\n",
       "  <tbody>\n",
       "    <tr>\n",
       "      <th>0</th>\n",
       "      <td>0.805577</td>\n",
       "      <td>0.839387</td>\n",
       "      <td>0.822134</td>\n",
       "      <td>1239.000000</td>\n",
       "    </tr>\n",
       "    <tr>\n",
       "      <th>1</th>\n",
       "      <td>0.498741</td>\n",
       "      <td>0.440980</td>\n",
       "      <td>0.468085</td>\n",
       "      <td>449.000000</td>\n",
       "    </tr>\n",
       "    <tr>\n",
       "      <th>accuracy</th>\n",
       "      <td>0.733412</td>\n",
       "      <td>0.733412</td>\n",
       "      <td>0.733412</td>\n",
       "      <td>0.733412</td>\n",
       "    </tr>\n",
       "    <tr>\n",
       "      <th>macro avg</th>\n",
       "      <td>0.652159</td>\n",
       "      <td>0.640183</td>\n",
       "      <td>0.645110</td>\n",
       "      <td>1688.000000</td>\n",
       "    </tr>\n",
       "    <tr>\n",
       "      <th>weighted avg</th>\n",
       "      <td>0.723960</td>\n",
       "      <td>0.733412</td>\n",
       "      <td>0.727959</td>\n",
       "      <td>1688.000000</td>\n",
       "    </tr>\n",
       "  </tbody>\n",
       "</table>\n",
       "</div>"
      ],
      "text/plain": [
       "              precision    recall  f1-score      support\n",
       "0              0.805577  0.839387  0.822134  1239.000000\n",
       "1              0.498741  0.440980  0.468085   449.000000\n",
       "accuracy       0.733412  0.733412  0.733412     0.733412\n",
       "macro avg      0.652159  0.640183  0.645110  1688.000000\n",
       "weighted avg   0.723960  0.733412  0.727959  1688.000000"
      ]
     },
     "execution_count": 23,
     "metadata": {},
     "output_type": "execute_result"
    }
   ],
   "source": [
    "# Creating predictions and evaluating \n",
    "\n",
    "accuracy10 = knn3.score(X, y)\n",
    "y_pred = knn3.predict(X)\n",
    "conf = confusion_matrix(y, y_pred)\n",
    "class_report = pd.DataFrame(classification_report(y, y_pred, output_dict=True)).T\n",
    "conf = confusion_matrix(y, y_pred)\n",
    "tpr = conf[1][1] / conf[1].sum()\n",
    "fpr = conf[0][1] / conf[0].sum()\n",
    "tnr = conf[0][0] / conf[0].sum()\n",
    "fnr = conf[1][0] / conf[1].sum()\n",
    "print(f'''\n",
    "The accuracy for our model is {accuracy10:.4}\n",
    "The True Positive Rate is {tpr:.3}, The False Positive Rate is {fpr:.3},\n",
    "The True Negative Rate is {tnr:.3}, and the False Negative Rate is {fnr:.3}\n",
    "''')\n",
    "class_report"
   ]
  },
  {
   "cell_type": "markdown",
   "id": "264b30e8",
   "metadata": {},
   "source": [
    "*Try one with lower K value*"
   ]
  },
  {
   "cell_type": "code",
   "execution_count": 24,
   "id": "2bb1344d",
   "metadata": {},
   "outputs": [],
   "source": [
    "# Model 11\n",
    "# Create and fit K-Nearest Neighbor model \n",
    "\n",
    "knn4 = KNeighborsClassifier(n_neighbors=3)\n",
    "knn4 = knn4.fit(X_train[top_5_features], y_train)"
   ]
  },
  {
   "cell_type": "code",
   "execution_count": 25,
   "id": "db941b0e",
   "metadata": {},
   "outputs": [
    {
     "name": "stdout",
     "output_type": "stream",
     "text": [
      "\n",
      "The accuracy for our model is 0.7192\n",
      "The True Positive Rate is 0.445, The False Positive Rate is 0.182,\n",
      "The True Negative Rate is 0.818, and the False Negative Rate is 0.555\n",
      "\n"
     ]
    },
    {
     "data": {
      "text/html": [
       "<div>\n",
       "<style scoped>\n",
       "    .dataframe tbody tr th:only-of-type {\n",
       "        vertical-align: middle;\n",
       "    }\n",
       "\n",
       "    .dataframe tbody tr th {\n",
       "        vertical-align: top;\n",
       "    }\n",
       "\n",
       "    .dataframe thead th {\n",
       "        text-align: right;\n",
       "    }\n",
       "</style>\n",
       "<table border=\"1\" class=\"dataframe\">\n",
       "  <thead>\n",
       "    <tr style=\"text-align: right;\">\n",
       "      <th></th>\n",
       "      <th>precision</th>\n",
       "      <th>recall</th>\n",
       "      <th>f1-score</th>\n",
       "      <th>support</th>\n",
       "    </tr>\n",
       "  </thead>\n",
       "  <tbody>\n",
       "    <tr>\n",
       "      <th>0</th>\n",
       "      <td>0.802850</td>\n",
       "      <td>0.818402</td>\n",
       "      <td>0.810552</td>\n",
       "      <td>1239.000000</td>\n",
       "    </tr>\n",
       "    <tr>\n",
       "      <th>1</th>\n",
       "      <td>0.470588</td>\n",
       "      <td>0.445434</td>\n",
       "      <td>0.457666</td>\n",
       "      <td>449.000000</td>\n",
       "    </tr>\n",
       "    <tr>\n",
       "      <th>accuracy</th>\n",
       "      <td>0.719194</td>\n",
       "      <td>0.719194</td>\n",
       "      <td>0.719194</td>\n",
       "      <td>0.719194</td>\n",
       "    </tr>\n",
       "    <tr>\n",
       "      <th>macro avg</th>\n",
       "      <td>0.636719</td>\n",
       "      <td>0.631918</td>\n",
       "      <td>0.634109</td>\n",
       "      <td>1688.000000</td>\n",
       "    </tr>\n",
       "    <tr>\n",
       "      <th>weighted avg</th>\n",
       "      <td>0.714470</td>\n",
       "      <td>0.719194</td>\n",
       "      <td>0.716686</td>\n",
       "      <td>1688.000000</td>\n",
       "    </tr>\n",
       "  </tbody>\n",
       "</table>\n",
       "</div>"
      ],
      "text/plain": [
       "              precision    recall  f1-score      support\n",
       "0              0.802850  0.818402  0.810552  1239.000000\n",
       "1              0.470588  0.445434  0.457666   449.000000\n",
       "accuracy       0.719194  0.719194  0.719194     0.719194\n",
       "macro avg      0.636719  0.631918  0.634109  1688.000000\n",
       "weighted avg   0.714470  0.719194  0.716686  1688.000000"
      ]
     },
     "execution_count": 25,
     "metadata": {},
     "output_type": "execute_result"
    }
   ],
   "source": [
    "# Creating predictions and evaluating \n",
    "\n",
    "accuracy11 = knn4.score(X, y)\n",
    "y_pred = knn4.predict(X)\n",
    "conf = confusion_matrix(y, y_pred)\n",
    "class_report = pd.DataFrame(classification_report(y, y_pred, output_dict=True)).T\n",
    "conf = confusion_matrix(y, y_pred)\n",
    "tpr = conf[1][1] / conf[1].sum()\n",
    "fpr = conf[0][1] / conf[0].sum()\n",
    "tnr = conf[0][0] / conf[0].sum()\n",
    "fnr = conf[1][0] / conf[1].sum()\n",
    "print(f'''\n",
    "The accuracy for our model is {accuracy11:.4}\n",
    "The True Positive Rate is {tpr:.3}, The False Positive Rate is {fpr:.3},\n",
    "The True Negative Rate is {tnr:.3}, and the False Negative Rate is {fnr:.3}\n",
    "''')\n",
    "class_report"
   ]
  },
  {
   "cell_type": "markdown",
   "id": "10cdfe09",
   "metadata": {},
   "source": [
    "**Logistic Regression Models**"
   ]
  },
  {
   "cell_type": "code",
   "execution_count": 26,
   "id": "bb8dfed4",
   "metadata": {},
   "outputs": [],
   "source": [
    "# Model 12\n",
    "#Create logistic regresssion model\n",
    "\n",
    "logit3 = LogisticRegression(random_state=123)\n",
    "logit3 = logit3.fit(X_train[top_5_features], y_train)"
   ]
  },
  {
   "cell_type": "code",
   "execution_count": 27,
   "id": "1dfd2ef8",
   "metadata": {},
   "outputs": [
    {
     "name": "stdout",
     "output_type": "stream",
     "text": [
      "\n",
      "The accuracy for our model is 0.7589\n",
      "The True Positive Rate is 0.535, The False Positive Rate is 0.16,\n",
      "The True Negative Rate is 0.84, and the False Negative Rate is 0.465\n",
      "\n"
     ]
    },
    {
     "data": {
      "text/html": [
       "<div>\n",
       "<style scoped>\n",
       "    .dataframe tbody tr th:only-of-type {\n",
       "        vertical-align: middle;\n",
       "    }\n",
       "\n",
       "    .dataframe tbody tr th {\n",
       "        vertical-align: top;\n",
       "    }\n",
       "\n",
       "    .dataframe thead th {\n",
       "        text-align: right;\n",
       "    }\n",
       "</style>\n",
       "<table border=\"1\" class=\"dataframe\">\n",
       "  <thead>\n",
       "    <tr style=\"text-align: right;\">\n",
       "      <th></th>\n",
       "      <th>precision</th>\n",
       "      <th>recall</th>\n",
       "      <th>f1-score</th>\n",
       "      <th>support</th>\n",
       "    </tr>\n",
       "  </thead>\n",
       "  <tbody>\n",
       "    <tr>\n",
       "      <th>0</th>\n",
       "      <td>0.832800</td>\n",
       "      <td>0.840194</td>\n",
       "      <td>0.836481</td>\n",
       "      <td>1239.000000</td>\n",
       "    </tr>\n",
       "    <tr>\n",
       "      <th>1</th>\n",
       "      <td>0.547945</td>\n",
       "      <td>0.534521</td>\n",
       "      <td>0.541150</td>\n",
       "      <td>449.000000</td>\n",
       "    </tr>\n",
       "    <tr>\n",
       "      <th>accuracy</th>\n",
       "      <td>0.758886</td>\n",
       "      <td>0.758886</td>\n",
       "      <td>0.758886</td>\n",
       "      <td>0.758886</td>\n",
       "    </tr>\n",
       "    <tr>\n",
       "      <th>macro avg</th>\n",
       "      <td>0.690373</td>\n",
       "      <td>0.687357</td>\n",
       "      <td>0.688815</td>\n",
       "      <td>1688.000000</td>\n",
       "    </tr>\n",
       "    <tr>\n",
       "      <th>weighted avg</th>\n",
       "      <td>0.757030</td>\n",
       "      <td>0.758886</td>\n",
       "      <td>0.757924</td>\n",
       "      <td>1688.000000</td>\n",
       "    </tr>\n",
       "  </tbody>\n",
       "</table>\n",
       "</div>"
      ],
      "text/plain": [
       "              precision    recall  f1-score      support\n",
       "0              0.832800  0.840194  0.836481  1239.000000\n",
       "1              0.547945  0.534521  0.541150   449.000000\n",
       "accuracy       0.758886  0.758886  0.758886     0.758886\n",
       "macro avg      0.690373  0.687357  0.688815  1688.000000\n",
       "weighted avg   0.757030  0.758886  0.757924  1688.000000"
      ]
     },
     "execution_count": 27,
     "metadata": {},
     "output_type": "execute_result"
    }
   ],
   "source": [
    "\n",
    "\n",
    "accuracy12 = logit3.score(X, y)\n",
    "y_pred = logit3.predict(X)\n",
    "conf = confusion_matrix(y, y_pred)\n",
    "class_report = pd.DataFrame(classification_report(y, y_pred, output_dict=True)).T\n",
    "conf = confusion_matrix(y, y_pred)\n",
    "tpr = conf[1][1] / conf[1].sum()\n",
    "fpr = conf[0][1] / conf[0].sum()\n",
    "tnr = conf[0][0] / conf[0].sum()\n",
    "fnr = conf[1][0] / conf[1].sum()\n",
    "print(f'''\n",
    "The accuracy for our model is {accuracy12:.4}\n",
    "The True Positive Rate is {tpr:.3}, The False Positive Rate is {fpr:.3},\n",
    "The True Negative Rate is {tnr:.3}, and the False Negative Rate is {fnr:.3}\n",
    "''')\n",
    "class_report"
   ]
  },
  {
   "cell_type": "markdown",
   "id": "31be2075",
   "metadata": {},
   "source": [
    "## Models Using Top 2 Features ##"
   ]
  },
  {
   "cell_type": "markdown",
   "id": "dce58a37",
   "metadata": {},
   "source": [
    "**Decision Trees**"
   ]
  },
  {
   "cell_type": "code",
   "execution_count": 28,
   "id": "73d8620b",
   "metadata": {},
   "outputs": [],
   "source": [
    "# Model 13\n",
    "#Create and fit our model\n",
    "\n",
    "top_2_features = ['monthly_contract', 'fiber_optic']\n",
    "\n",
    "clf3 = DecisionTreeClassifier(random_state=123)\n",
    "\n",
    "clf3 = clf3.fit(X_train[top_2_features], y_train)"
   ]
  },
  {
   "cell_type": "code",
   "execution_count": 29,
   "id": "5d683ceb",
   "metadata": {},
   "outputs": [
    {
     "name": "stdout",
     "output_type": "stream",
     "text": [
      "\n",
      "The accuracy for our model is 0.7387\n",
      "The True Positive Rate is 0.608, The False Positive Rate is 0.214,\n",
      "The True Negative Rate is 0.786, and the False Negative Rate is 0.392\n",
      "\n"
     ]
    },
    {
     "data": {
      "text/html": [
       "<div>\n",
       "<style scoped>\n",
       "    .dataframe tbody tr th:only-of-type {\n",
       "        vertical-align: middle;\n",
       "    }\n",
       "\n",
       "    .dataframe tbody tr th {\n",
       "        vertical-align: top;\n",
       "    }\n",
       "\n",
       "    .dataframe thead th {\n",
       "        text-align: right;\n",
       "    }\n",
       "</style>\n",
       "<table border=\"1\" class=\"dataframe\">\n",
       "  <thead>\n",
       "    <tr style=\"text-align: right;\">\n",
       "      <th></th>\n",
       "      <th>precision</th>\n",
       "      <th>recall</th>\n",
       "      <th>f1-score</th>\n",
       "      <th>support</th>\n",
       "    </tr>\n",
       "  </thead>\n",
       "  <tbody>\n",
       "    <tr>\n",
       "      <th>0</th>\n",
       "      <td>0.846957</td>\n",
       "      <td>0.786118</td>\n",
       "      <td>0.815404</td>\n",
       "      <td>1239.000000</td>\n",
       "    </tr>\n",
       "    <tr>\n",
       "      <th>1</th>\n",
       "      <td>0.507435</td>\n",
       "      <td>0.608018</td>\n",
       "      <td>0.553191</td>\n",
       "      <td>449.000000</td>\n",
       "    </tr>\n",
       "    <tr>\n",
       "      <th>accuracy</th>\n",
       "      <td>0.738744</td>\n",
       "      <td>0.738744</td>\n",
       "      <td>0.738744</td>\n",
       "      <td>0.738744</td>\n",
       "    </tr>\n",
       "    <tr>\n",
       "      <th>macro avg</th>\n",
       "      <td>0.677196</td>\n",
       "      <td>0.697068</td>\n",
       "      <td>0.684298</td>\n",
       "      <td>1688.000000</td>\n",
       "    </tr>\n",
       "    <tr>\n",
       "      <th>weighted avg</th>\n",
       "      <td>0.756645</td>\n",
       "      <td>0.738744</td>\n",
       "      <td>0.745657</td>\n",
       "      <td>1688.000000</td>\n",
       "    </tr>\n",
       "  </tbody>\n",
       "</table>\n",
       "</div>"
      ],
      "text/plain": [
       "              precision    recall  f1-score      support\n",
       "0              0.846957  0.786118  0.815404  1239.000000\n",
       "1              0.507435  0.608018  0.553191   449.000000\n",
       "accuracy       0.738744  0.738744  0.738744     0.738744\n",
       "macro avg      0.677196  0.697068  0.684298  1688.000000\n",
       "weighted avg   0.756645  0.738744  0.745657  1688.000000"
      ]
     },
     "execution_count": 29,
     "metadata": {},
     "output_type": "execute_result"
    }
   ],
   "source": [
    "# Creating predictions and evaluating \n",
    "\n",
    "X = X_validate[top_2_features]\n",
    "y = y_validate\n",
    "\n",
    "accuracy13 = clf3.score(X, y)\n",
    "y_pred = clf3.predict(X)\n",
    "conf = confusion_matrix(y, y_pred)\n",
    "class_report = pd.DataFrame(classification_report(y, y_pred, output_dict=True)).T\n",
    "conf = confusion_matrix(y, y_pred)\n",
    "tpr = conf[1][1] / conf[1].sum()\n",
    "fpr = conf[0][1] / conf[0].sum()\n",
    "tnr = conf[0][0] / conf[0].sum()\n",
    "fnr = conf[1][0] / conf[1].sum()\n",
    "print(f'''\n",
    "The accuracy for our model is {accuracy13:.4}\n",
    "The True Positive Rate is {tpr:.3}, The False Positive Rate is {fpr:.3},\n",
    "The True Negative Rate is {tnr:.3}, and the False Negative Rate is {fnr:.3}\n",
    "''')\n",
    "class_report"
   ]
  },
  {
   "cell_type": "markdown",
   "id": "63550892",
   "metadata": {},
   "source": [
    "**KNN Model**"
   ]
  },
  {
   "cell_type": "code",
   "execution_count": 30,
   "id": "05b9223b",
   "metadata": {},
   "outputs": [],
   "source": [
    "# Model 14\n",
    "# Create and fit K-Nearest Neighbor model \n",
    "\n",
    "knn5 = KNeighborsClassifier(n_neighbors=3)\n",
    "knn5 = knn5.fit(X_train[top_2_features], y_train)"
   ]
  },
  {
   "cell_type": "code",
   "execution_count": 31,
   "id": "47b07869",
   "metadata": {},
   "outputs": [
    {
     "name": "stdout",
     "output_type": "stream",
     "text": [
      "\n",
      "The accuracy for our model is 0.7387\n",
      "The True Positive Rate is 0.608, The False Positive Rate is 0.214,\n",
      "The True Negative Rate is 0.786, and the False Negative Rate is 0.392\n",
      "\n"
     ]
    },
    {
     "data": {
      "text/html": [
       "<div>\n",
       "<style scoped>\n",
       "    .dataframe tbody tr th:only-of-type {\n",
       "        vertical-align: middle;\n",
       "    }\n",
       "\n",
       "    .dataframe tbody tr th {\n",
       "        vertical-align: top;\n",
       "    }\n",
       "\n",
       "    .dataframe thead th {\n",
       "        text-align: right;\n",
       "    }\n",
       "</style>\n",
       "<table border=\"1\" class=\"dataframe\">\n",
       "  <thead>\n",
       "    <tr style=\"text-align: right;\">\n",
       "      <th></th>\n",
       "      <th>precision</th>\n",
       "      <th>recall</th>\n",
       "      <th>f1-score</th>\n",
       "      <th>support</th>\n",
       "    </tr>\n",
       "  </thead>\n",
       "  <tbody>\n",
       "    <tr>\n",
       "      <th>0</th>\n",
       "      <td>0.846957</td>\n",
       "      <td>0.786118</td>\n",
       "      <td>0.815404</td>\n",
       "      <td>1239.000000</td>\n",
       "    </tr>\n",
       "    <tr>\n",
       "      <th>1</th>\n",
       "      <td>0.507435</td>\n",
       "      <td>0.608018</td>\n",
       "      <td>0.553191</td>\n",
       "      <td>449.000000</td>\n",
       "    </tr>\n",
       "    <tr>\n",
       "      <th>accuracy</th>\n",
       "      <td>0.738744</td>\n",
       "      <td>0.738744</td>\n",
       "      <td>0.738744</td>\n",
       "      <td>0.738744</td>\n",
       "    </tr>\n",
       "    <tr>\n",
       "      <th>macro avg</th>\n",
       "      <td>0.677196</td>\n",
       "      <td>0.697068</td>\n",
       "      <td>0.684298</td>\n",
       "      <td>1688.000000</td>\n",
       "    </tr>\n",
       "    <tr>\n",
       "      <th>weighted avg</th>\n",
       "      <td>0.756645</td>\n",
       "      <td>0.738744</td>\n",
       "      <td>0.745657</td>\n",
       "      <td>1688.000000</td>\n",
       "    </tr>\n",
       "  </tbody>\n",
       "</table>\n",
       "</div>"
      ],
      "text/plain": [
       "              precision    recall  f1-score      support\n",
       "0              0.846957  0.786118  0.815404  1239.000000\n",
       "1              0.507435  0.608018  0.553191   449.000000\n",
       "accuracy       0.738744  0.738744  0.738744     0.738744\n",
       "macro avg      0.677196  0.697068  0.684298  1688.000000\n",
       "weighted avg   0.756645  0.738744  0.745657  1688.000000"
      ]
     },
     "execution_count": 31,
     "metadata": {},
     "output_type": "execute_result"
    }
   ],
   "source": [
    "# Creating predictions and evaluating \n",
    "\n",
    "\n",
    "\n",
    "accuracy14 = knn5.score(X, y)\n",
    "y_pred = knn5.predict(X)\n",
    "conf = confusion_matrix(y, y_pred)\n",
    "class_report = pd.DataFrame(classification_report(y, y_pred, output_dict=True)).T\n",
    "conf = confusion_matrix(y, y_pred)\n",
    "tpr = conf[1][1] / conf[1].sum()\n",
    "fpr = conf[0][1] / conf[0].sum()\n",
    "tnr = conf[0][0] / conf[0].sum()\n",
    "fnr = conf[1][0] / conf[1].sum()\n",
    "print(f'''\n",
    "The accuracy for our model is {accuracy14:.4}\n",
    "The True Positive Rate is {tpr:.3}, The False Positive Rate is {fpr:.3},\n",
    "The True Negative Rate is {tnr:.3}, and the False Negative Rate is {fnr:.3}\n",
    "''')\n",
    "class_report"
   ]
  },
  {
   "cell_type": "markdown",
   "id": "c3e7a3c8",
   "metadata": {},
   "source": [
    "**Compare all my Models Scores to decide which to use on evaluate and the test**"
   ]
  },
  {
   "cell_type": "code",
   "execution_count": 32,
   "id": "8302de2b",
   "metadata": {},
   "outputs": [
    {
     "name": "stdout",
     "output_type": "stream",
     "text": [
      "Model 1: 0.726303317535545\n",
      "Model 2: 0.7731042654028436\n",
      "Model 3: 0.759478672985782\n",
      "Model 4: 0.7417061611374408\n",
      "Model 5: 0.7713270142180095\n",
      "Model 6: 0.7979857819905213\n",
      "Model 7: 0.7233412322274881\n",
      "Model 8: 0.7434834123222749\n",
      "Model 9: 0.7316350710900474\n",
      "Model 10: 0.7334123222748815\n",
      "Model 11: 0.7191943127962085\n",
      "Model 12: 0.7588862559241706\n",
      "Model 13: 0.7387440758293838\n",
      "Model 14: 0.7387440758293838\n"
     ]
    }
   ],
   "source": [
    "print(f'''Model 1: {accuracy1}''')\n",
    "print(f'''Model 2: {accuracy2}''')\n",
    "print(f'''Model 3: {accuracy3}''')\n",
    "print(f'''Model 4: {accuracy4}''')\n",
    "print(f'''Model 5: {accuracy5}''')\n",
    "print(f'''Model 6: {accuracy6}''')\n",
    "print(f'''Model 7: {accuracy7}''')\n",
    "print(f'''Model 8: {accuracy8}''')\n",
    "print(f'''Model 9: {accuracy9}''')\n",
    "print(f'''Model 10: {accuracy10}''')\n",
    "print(f'''Model 11: {accuracy11}''')\n",
    "print(f'''Model 12: {accuracy12}''')\n",
    "print(f'''Model 13: {accuracy13}''')\n",
    "print(f'''Model 14: {accuracy14}''')"
   ]
  },
  {
   "cell_type": "markdown",
   "id": "4f5854c7",
   "metadata": {},
   "source": [
    "**I'll select the best performing model from these to use on the test data set.**\n",
    "\n",
    "**Model 6 is my best performing model at 80% accuracy.**"
   ]
  },
  {
   "cell_type": "markdown",
   "id": "aab02838",
   "metadata": {},
   "source": [
    "**What are my top 3 scores when fit to the validate data set?**"
   ]
  },
  {
   "cell_type": "markdown",
   "id": "8b6b1803",
   "metadata": {},
   "source": [
    "Decision: \n",
    "- While Model 6 is techinically the bet performing model, it uses all 14 variables and I wasn't able to check that every single variable is statistically significant so my error score may be quite high. It is likely to be overfit and not perform as well on new real world data.\n",
    "- As such as I will use Model 12 as my best as it still has an accuracy of 76% using only 5 variables reducing dimensionality. I will fit this model to the test data set."
   ]
  },
  {
   "cell_type": "code",
   "execution_count": 43,
   "id": "6890508a",
   "metadata": {},
   "outputs": [
    {
     "name": "stdout",
     "output_type": "stream",
     "text": [
      "\n",
      "The accuracy for our model is 0.7612\n",
      "The True Positive Rate is 0.529, The False Positive Rate is 0.155,\n",
      "The True Negative Rate is 0.845, and the False Negative Rate is 0.471\n",
      "\n"
     ]
    },
    {
     "data": {
      "text/html": [
       "<div>\n",
       "<style scoped>\n",
       "    .dataframe tbody tr th:only-of-type {\n",
       "        vertical-align: middle;\n",
       "    }\n",
       "\n",
       "    .dataframe tbody tr th {\n",
       "        vertical-align: top;\n",
       "    }\n",
       "\n",
       "    .dataframe thead th {\n",
       "        text-align: right;\n",
       "    }\n",
       "</style>\n",
       "<table border=\"1\" class=\"dataframe\">\n",
       "  <thead>\n",
       "    <tr style=\"text-align: right;\">\n",
       "      <th></th>\n",
       "      <th>precision</th>\n",
       "      <th>recall</th>\n",
       "      <th>f1-score</th>\n",
       "      <th>support</th>\n",
       "    </tr>\n",
       "  </thead>\n",
       "  <tbody>\n",
       "    <tr>\n",
       "      <th>0</th>\n",
       "      <td>0.832221</td>\n",
       "      <td>0.845111</td>\n",
       "      <td>0.838617</td>\n",
       "      <td>1033.000000</td>\n",
       "    </tr>\n",
       "    <tr>\n",
       "      <th>1</th>\n",
       "      <td>0.553073</td>\n",
       "      <td>0.529412</td>\n",
       "      <td>0.540984</td>\n",
       "      <td>374.000000</td>\n",
       "    </tr>\n",
       "    <tr>\n",
       "      <th>accuracy</th>\n",
       "      <td>0.761194</td>\n",
       "      <td>0.761194</td>\n",
       "      <td>0.761194</td>\n",
       "      <td>0.761194</td>\n",
       "    </tr>\n",
       "    <tr>\n",
       "      <th>macro avg</th>\n",
       "      <td>0.692647</td>\n",
       "      <td>0.687262</td>\n",
       "      <td>0.689800</td>\n",
       "      <td>1407.000000</td>\n",
       "    </tr>\n",
       "    <tr>\n",
       "      <th>weighted avg</th>\n",
       "      <td>0.758020</td>\n",
       "      <td>0.761194</td>\n",
       "      <td>0.759502</td>\n",
       "      <td>1407.000000</td>\n",
       "    </tr>\n",
       "  </tbody>\n",
       "</table>\n",
       "</div>"
      ],
      "text/plain": [
       "              precision    recall  f1-score      support\n",
       "0              0.832221  0.845111  0.838617  1033.000000\n",
       "1              0.553073  0.529412  0.540984   374.000000\n",
       "accuracy       0.761194  0.761194  0.761194     0.761194\n",
       "macro avg      0.692647  0.687262  0.689800  1407.000000\n",
       "weighted avg   0.758020  0.761194  0.759502  1407.000000"
      ]
     },
     "execution_count": 43,
     "metadata": {},
     "output_type": "execute_result"
    }
   ],
   "source": [
    "# Evaluating Model 12 on test \n",
    "X = X_test[top_5_features]\n",
    "y = y_test \n",
    "\n",
    "accuracy12 = logit3.score(X, y)\n",
    "y_pred = logit3.predict(X)\n",
    "conf = confusion_matrix(y, y_pred)\n",
    "class_report = pd.DataFrame(classification_report(y, y_pred, output_dict=True)).T\n",
    "conf = confusion_matrix(y, y_pred)\n",
    "tpr = conf[1][1] / conf[1].sum()\n",
    "fpr = conf[0][1] / conf[0].sum()\n",
    "tnr = conf[0][0] / conf[0].sum()\n",
    "fnr = conf[1][0] / conf[1].sum()\n",
    "print(f'''\n",
    "The accuracy for our model is {accuracy12:.4}\n",
    "The True Positive Rate is {tpr:.3}, The False Positive Rate is {fpr:.3},\n",
    "The True Negative Rate is {tnr:.3}, and the False Negative Rate is {fnr:.3}\n",
    "''')\n",
    "class_report"
   ]
  },
  {
   "cell_type": "markdown",
   "id": "dc1ad224",
   "metadata": {},
   "source": [
    "**Create Predictions CSV File**"
   ]
  },
  {
   "cell_type": "code",
   "execution_count": 36,
   "id": "e9d2843e",
   "metadata": {},
   "outputs": [],
   "source": [
    "# Create a copy of test dataframe\n",
    "test_predictions = test.copy()\n",
    "test_predictions['prediction'] = y_pred"
   ]
  },
  {
   "cell_type": "code",
   "execution_count": 37,
   "id": "19ec6351",
   "metadata": {},
   "outputs": [
    {
     "data": {
      "text/html": [
       "<div>\n",
       "<style scoped>\n",
       "    .dataframe tbody tr th:only-of-type {\n",
       "        vertical-align: middle;\n",
       "    }\n",
       "\n",
       "    .dataframe tbody tr th {\n",
       "        vertical-align: top;\n",
       "    }\n",
       "\n",
       "    .dataframe thead th {\n",
       "        text-align: right;\n",
       "    }\n",
       "</style>\n",
       "<table border=\"1\" class=\"dataframe\">\n",
       "  <thead>\n",
       "    <tr style=\"text-align: right;\">\n",
       "      <th></th>\n",
       "      <th>customer_id</th>\n",
       "      <th>actual_churn</th>\n",
       "      <th>prediction</th>\n",
       "    </tr>\n",
       "  </thead>\n",
       "  <tbody>\n",
       "    <tr>\n",
       "      <th>3311</th>\n",
       "      <td>4716-MRVEN</td>\n",
       "      <td>0</td>\n",
       "      <td>0</td>\n",
       "    </tr>\n",
       "    <tr>\n",
       "      <th>6330</th>\n",
       "      <td>8966-KZXXA</td>\n",
       "      <td>0</td>\n",
       "      <td>0</td>\n",
       "    </tr>\n",
       "    <tr>\n",
       "      <th>6156</th>\n",
       "      <td>8720-RQSBJ</td>\n",
       "      <td>0</td>\n",
       "      <td>0</td>\n",
       "    </tr>\n",
       "    <tr>\n",
       "      <th>5313</th>\n",
       "      <td>7504-UWHNB</td>\n",
       "      <td>0</td>\n",
       "      <td>1</td>\n",
       "    </tr>\n",
       "    <tr>\n",
       "      <th>1176</th>\n",
       "      <td>1730-VFMWO</td>\n",
       "      <td>0</td>\n",
       "      <td>0</td>\n",
       "    </tr>\n",
       "    <tr>\n",
       "      <th>...</th>\n",
       "      <td>...</td>\n",
       "      <td>...</td>\n",
       "      <td>...</td>\n",
       "    </tr>\n",
       "    <tr>\n",
       "      <th>600</th>\n",
       "      <td>0877-SDMBN</td>\n",
       "      <td>1</td>\n",
       "      <td>0</td>\n",
       "    </tr>\n",
       "    <tr>\n",
       "      <th>3946</th>\n",
       "      <td>5555-RNPGT</td>\n",
       "      <td>0</td>\n",
       "      <td>0</td>\n",
       "    </tr>\n",
       "    <tr>\n",
       "      <th>3230</th>\n",
       "      <td>4628-CTTLA</td>\n",
       "      <td>1</td>\n",
       "      <td>0</td>\n",
       "    </tr>\n",
       "    <tr>\n",
       "      <th>349</th>\n",
       "      <td>0516-QREYC</td>\n",
       "      <td>0</td>\n",
       "      <td>0</td>\n",
       "    </tr>\n",
       "    <tr>\n",
       "      <th>3690</th>\n",
       "      <td>5198-HQAEN</td>\n",
       "      <td>0</td>\n",
       "      <td>0</td>\n",
       "    </tr>\n",
       "  </tbody>\n",
       "</table>\n",
       "<p>1407 rows × 3 columns</p>\n",
       "</div>"
      ],
      "text/plain": [
       "     customer_id  actual_churn  prediction\n",
       "3311  4716-MRVEN             0           0\n",
       "6330  8966-KZXXA             0           0\n",
       "6156  8720-RQSBJ             0           0\n",
       "5313  7504-UWHNB             0           1\n",
       "1176  1730-VFMWO             0           0\n",
       "...          ...           ...         ...\n",
       "600   0877-SDMBN             1           0\n",
       "3946  5555-RNPGT             0           0\n",
       "3230  4628-CTTLA             1           0\n",
       "349   0516-QREYC             0           0\n",
       "3690  5198-HQAEN             0           0\n",
       "\n",
       "[1407 rows x 3 columns]"
      ]
     },
     "execution_count": 37,
     "metadata": {},
     "output_type": "execute_result"
    }
   ],
   "source": [
    "# Create dataframe for visualization purposes\n",
    "prediction_vis = test_predictions[['customer_id', 'churn', 'prediction']]\n",
    "prediction_vis = prediction_vis.rename(columns={'churn': 'actual_churn'})\n",
    "prediction_vis"
   ]
  },
  {
   "cell_type": "code",
   "execution_count": 38,
   "id": "47b2deaa",
   "metadata": {},
   "outputs": [],
   "source": [
    "# Use only necessary columns for CSV\n",
    "predictions = test_predictions[['customer_id','prediction']]\n",
    "predictions = predictions.reset_index().drop(columns='index')"
   ]
  },
  {
   "cell_type": "code",
   "execution_count": 39,
   "id": "71a5c749",
   "metadata": {},
   "outputs": [
    {
     "data": {
      "text/html": [
       "<div>\n",
       "<style scoped>\n",
       "    .dataframe tbody tr th:only-of-type {\n",
       "        vertical-align: middle;\n",
       "    }\n",
       "\n",
       "    .dataframe tbody tr th {\n",
       "        vertical-align: top;\n",
       "    }\n",
       "\n",
       "    .dataframe thead th {\n",
       "        text-align: right;\n",
       "    }\n",
       "</style>\n",
       "<table border=\"1\" class=\"dataframe\">\n",
       "  <thead>\n",
       "    <tr style=\"text-align: right;\">\n",
       "      <th></th>\n",
       "      <th>customer_id</th>\n",
       "      <th>prediction</th>\n",
       "      <th>churn_probability</th>\n",
       "    </tr>\n",
       "  </thead>\n",
       "  <tbody>\n",
       "    <tr>\n",
       "      <th>0</th>\n",
       "      <td>4716-MRVEN</td>\n",
       "      <td>0</td>\n",
       "      <td>0.002448</td>\n",
       "    </tr>\n",
       "    <tr>\n",
       "      <th>1</th>\n",
       "      <td>8966-KZXXA</td>\n",
       "      <td>0</td>\n",
       "      <td>0.008117</td>\n",
       "    </tr>\n",
       "    <tr>\n",
       "      <th>2</th>\n",
       "      <td>8720-RQSBJ</td>\n",
       "      <td>0</td>\n",
       "      <td>0.157821</td>\n",
       "    </tr>\n",
       "    <tr>\n",
       "      <th>3</th>\n",
       "      <td>7504-UWHNB</td>\n",
       "      <td>1</td>\n",
       "      <td>0.820766</td>\n",
       "    </tr>\n",
       "    <tr>\n",
       "      <th>4</th>\n",
       "      <td>1730-VFMWO</td>\n",
       "      <td>0</td>\n",
       "      <td>0.281080</td>\n",
       "    </tr>\n",
       "  </tbody>\n",
       "</table>\n",
       "</div>"
      ],
      "text/plain": [
       "  customer_id  prediction  churn_probability\n",
       "0  4716-MRVEN           0           0.002448\n",
       "1  8966-KZXXA           0           0.008117\n",
       "2  8720-RQSBJ           0           0.157821\n",
       "3  7504-UWHNB           1           0.820766\n",
       "4  1730-VFMWO           0           0.281080"
      ]
     },
     "execution_count": 39,
     "metadata": {},
     "output_type": "execute_result"
    }
   ],
   "source": [
    "#Calculate prediction probability and concatenate\n",
    "proba = pd.DataFrame(rf1.predict_proba(X_test[top_5_features]))\n",
    "predictions = pd.concat([predictions, proba], axis=1)\n",
    "predictions = predictions.rename(columns={1: 'churn_probability'})\n",
    "predictions = predictions.drop(columns= 0)\n",
    "predictions.head()"
   ]
  },
  {
   "cell_type": "code",
   "execution_count": 40,
   "id": "d20e0266",
   "metadata": {},
   "outputs": [],
   "source": [
    "#Create CSV\n",
    "predictions.to_csv('predictions.csv')"
   ]
  },
  {
   "cell_type": "markdown",
   "id": "0b590825",
   "metadata": {},
   "source": [
    "**Visualize model predictions**"
   ]
  },
  {
   "cell_type": "code",
   "execution_count": 41,
   "id": "8b3e1e0f",
   "metadata": {},
   "outputs": [
    {
     "data": {
      "image/png": "[encoded data removed]",
      "text/plain": [
       "<Figure size 432x288 with 1 Axes>"
      ]
     },
     "metadata": {
      "needs_background": "light"
     },
     "output_type": "display_data"
    },
    {
     "data": {
      "image/png": "[encoded data removed]",
      "text/plain": [
       "<Figure size 432x288 with 1 Axes>"
      ]
     },
     "metadata": {
      "needs_background": "light"
     },
     "output_type": "display_data"
    }
   ],
   "source": [
    "prediction_vis.prediction.value_counts().sort_index().plot.bar()\n",
    "predicted_churn_rate = prediction_vis.prediction.mean()\n",
    "plt.title(f'Predicted Churn Rate: {predicted_churn_rate:.3}')\n",
    "plt.xlabel('Predicted Churn')\n",
    "plt.show()\n",
    "\n",
    "prediction_vis.actual_churn.value_counts().sort_index().plot.bar()\n",
    "actual_churn_rate = prediction_vis.actual_churn.mean()\n",
    "plt.title(f'Actual Churn Rate: {actual_churn_rate:.3}')\n",
    "plt.xlabel('Actual Churn')\n",
    "plt.show()"
   ]
  }
 ],
 "metadata": {
  "kernelspec": {
   "display_name": "Python 3.9.7 64-bit ('base': conda)",
   "language": "python",
   "name": "python397jvsc74a57bd038cca0c38332a56087b24af0bc80247f4fced29cb4f7f437d91dc159adec9c4e"
  },
  "language_info": {
   "codemirror_mode": {
    "name": "ipython",
    "version": 3
   },
   "file_extension": ".py",
   "mimetype": "text/x-python",
   "name": "python",
   "nbconvert_exporter": "python",
   "pygments_lexer": "ipython3",
   "version": "3.9.7"
  }
 },
 "nbformat": 4,
 "nbformat_minor": 5
}
