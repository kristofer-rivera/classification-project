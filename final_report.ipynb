{
 "cells": [
  {
   "cell_type": "markdown",
   "id": "a97bea00",
   "metadata": {},
   "source": [
    "# Predicting Churn at Telco\n",
    "\n",
    "by Kristofer Rivera\n",
    "2022-03-14\n",
    "\n",
    "## Project Overview\n",
    "\n",
    "### Project Objectives\n",
    "- The goal of this project is to find drivers of churn at Telco and answer the question: \"Why are customers churning? \n",
    "- Construct a Machine Learning classification model that can accurately predict customer churn.\n",
    "- Deliver a report that clearly lays out findings and insights, and summarizes the process taken to reach them.\n",
    "- Present recommendations to stakeholders.\n",
    "\n",
    "\n",
    "### Project Description\n",
    "\n",
    "Telco, a large telecommunications company, is churning customers at a rate of about 26% percent. They want to find out why customers are churning and what changes they can make to reduce customer churn in the future. The minimum viable product is a machine learning model that can accurately predict customer churn at a rate above the baseline and can be used to make recommendations for potential changes.\n",
    "\n",
    "\n",
    "## Initial Questions\n",
    "\n",
    "- Is there a service type more associated with churn than expected?\n",
    "- Is a certain payment or contract type associated with higher churn?\n",
    "- Do customers who churn have higher average monthly charges?\n",
    "- Do monthly charges increase with tenure? How does this affect churn?\n"
   ]
  },
  {
   "cell_type": "markdown",
   "id": "cdd7c2e2",
   "metadata": {},
   "source": [
    "## Wrangle Titanic Data\n",
    "\n",
    "To acquire the telco data, I used the telco_churn database in our mySQL server. I selected all columns from the customers table and joined with the contract_types, payment_types, and internet_service types tables.\n",
    "\n",
    "`SELECT * FROM customers\n",
    "        JOIN contract_types USING (contract_type_id)\n",
    "        JOIN payment_types USING (payment_type_id)\n",
    "        JOIN internet_service_types USING (internet_service_type_id);`. "
   ]
  },
  {
   "cell_type": "code",
   "execution_count": 1,
   "id": "7626a439",
   "metadata": {},
   "outputs": [
    {
     "name": "stdout",
     "output_type": "stream",
     "text": [
      "Using cached csv...\n"
     ]
    }
   ],
   "source": [
    "# acquire data from sql database \n",
    "import acquire as aq\n",
    " \n",
    "# make the connection the database and run the query and return the table in the form of a dataframe. \n",
    "telco = aq.get_telco_data()"
   ]
  },
  {
   "cell_type": "markdown",
   "id": "3eb48eec",
   "metadata": {},
   "source": [
    "To clean the data, I did the following: \n",
    "\n",
    "1. Dummy Vars: Get dummy variables for sex, embarked\n",
    "1. Drop columns: embarked and sex columns (now dummy vars), deck (almost 700 missing values), class (class and pclass represented the same information, so I kept the one represented as an integer). \n",
    "1. Drop rows: where age is missing (177 rows are missing values, and age will likely be a very influential feature). "
   ]
  },
  {
   "cell_type": "code",
   "execution_count": 2,
   "id": "4ce06f8e",
   "metadata": {},
   "outputs": [],
   "source": [
    "import prepTitanic\n",
    "import pandas as pd\n",
    "\n",
    "train, validate, test = prepTitanic.clean_split_titanic_data(df)"
   ]
  },
  {
   "cell_type": "markdown",
   "id": "eaf62c63",
   "metadata": {},
   "source": [
    "- Our data is now split into 3 samples so that we can use the train sample to explore, fit to models and evaluate without looking at new data. \n",
    "- The validate is used to verify that our models built are not overfit to the train dataset. \n",
    "- The test set is used to give an estimate of how this model will perform on data is has never seen in the future. \n",
    "\n",
    "## Set the Data Context\n",
    "\n",
    "x% of passengers survived. We have data from 712 passengers, x of which are males, x of which traveled in 1st class, and the average fare of all passengers was $x.yy. "
   ]
  },
  {
   "cell_type": "code",
   "execution_count": null,
   "id": "b4ed4ea8",
   "metadata": {},
   "outputs": [],
   "source": [
    "# build a viz here setting the context of the data "
   ]
  },
  {
   "cell_type": "markdown",
   "id": "0290e7c1",
   "metadata": {},
   "source": [
    "## Exploratory Analysis: Who was more likely to survive? \n",
    "\n",
    "I have answered these questions\n",
    "\n",
    "1. \n",
    "2. \n",
    "3.\n",
    "4. \n",
    "\n",
    "### Question 1\n",
    "\n",
    "Was the phrase \"women and children first\" just a myth or did they really try to get out women and children first? \n",
    "\n",
    "  - are women more likely to survive? plot barplot x-axis is sex and y-axis is survival rate\n",
    "  - are children more likely to survive? bin age into 0-16, 17+, plot barplot on x-axis where y is survival rate (new variable = is_child)\n",
    "  - run chi-square test sex + survival\n",
    "  - run a chi-square test is_child + survival\n",
    "  - run a t-test on age and survived"
   ]
  },
  {
   "cell_type": "markdown",
   "id": "5419fd1f",
   "metadata": {},
   "source": [
    "### Answer 1\n",
    "\n",
    "Women are more likely to survive.\n",
    "\n",
    "### Question 2"
   ]
  },
  {
   "cell_type": "markdown",
   "id": "b500b964",
   "metadata": {},
   "source": [
    "...\n",
    "\n",
    "### Answer 4\n",
    "\n",
    "### Summary: So, who IS most likely to survive? \n",
    "\n",
    "\n",
    "*features you will more forward with*"
   ]
  },
  {
   "cell_type": "markdown",
   "id": "2e8839b6",
   "metadata": {},
   "source": [
    "## Predicting Survival\n",
    "\n",
    "Because survival is a boolean/yes or no value, we will use classification machine learning algorithms to fit to our training data and we will evaluate on validate. We will pick the best model using accuracy <evaluation metric> because the data is mostly balanced, and the risk of an event happening balances the risk of getting a prediction wrong. \n",
    "    \n",
    "### Baseline\n",
    "\n",
    "I will set a baseline prediction by predicting all passengers to not survive (survived == 0). I will evaluate the accuracy of that. "
   ]
  },
  {
   "cell_type": "code",
   "execution_count": 8,
   "id": "adce4c47",
   "metadata": {},
   "outputs": [],
   "source": [
    "# baseline"
   ]
  },
  {
   "cell_type": "markdown",
   "id": "a6bc1161",
   "metadata": {},
   "source": [
    "baseline performed at x% accuracy\n",
    "\n",
    "### Fit 3 models\n",
    "\n",
    "The top 3 models we built were a decision tree, random forest, and knn. \n",
    "The models differed in (the features, the algorithms)\n",
    "The random forest performed the best at x% accuracy as you will see. "
   ]
  },
  {
   "cell_type": "code",
   "execution_count": 9,
   "id": "f66ed60a",
   "metadata": {},
   "outputs": [],
   "source": [
    "# fit on train\n",
    "# predict on train\n",
    "# evaluate on train"
   ]
  },
  {
   "cell_type": "code",
   "execution_count": 10,
   "id": "40861353",
   "metadata": {},
   "outputs": [],
   "source": [
    "# predict on validate\n",
    "# evaluate on validate"
   ]
  },
  {
   "cell_type": "markdown",
   "id": "6123817d",
   "metadata": {},
   "source": [
    "None of these model appear to be overfit. X model performed the best on the validate sample, therefore, I moved forward with that model. "
   ]
  },
  {
   "cell_type": "code",
   "execution_count": 11,
   "id": "1b5216a5",
   "metadata": {},
   "outputs": [],
   "source": [
    "# predict on test\n",
    "# evaluate on test"
   ]
  },
  {
   "cell_type": "markdown",
   "id": "aa7f198d",
   "metadata": {},
   "source": [
    "I expect this model to perform with x% accuracy in the future on data it has not seen, given no major changes in our data source. "
   ]
  },
  {
   "cell_type": "markdown",
   "id": "ab7531e8",
   "metadata": {},
   "source": [
    "## Conclusion\n",
    "\n",
    "### Summary\n",
    "\n",
    "### Recommendations\n",
    "\n",
    "### Next Steps"
   ]
  },
  {
   "cell_type": "code",
   "execution_count": null,
   "id": "097d66ff",
   "metadata": {},
   "outputs": [],
   "source": []
  }
 ],
 "metadata": {
  "kernelspec": {
   "display_name": "Python 3 (ipykernel)",
   "language": "python",
   "name": "python3"
  },
  "language_info": {
   "codemirror_mode": {
    "name": "ipython",
    "version": 3
   },
   "file_extension": ".py",
   "mimetype": "text/x-python",
   "name": "python",
   "nbconvert_exporter": "python",
   "pygments_lexer": "ipython3",
   "version": "3.9.7"
  }
 },
 "nbformat": 4,
 "nbformat_minor": 5
}
